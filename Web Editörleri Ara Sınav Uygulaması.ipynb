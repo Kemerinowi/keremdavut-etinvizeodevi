{
 "cells": [
  {
   "cell_type": "markdown",
   "id": "21787356-387c-45ff-82c6-078313f3c7bd",
   "metadata": {},
   "source": [
    "# Web Editörleri Ara Sınav Uygulaması\n",
    "\n",
    "### Talimatlar:\n",
    "* <font color=red>Bilgisayarın Görmesi (Computer Vision)</font> ile ilgili OpenCV kütüphanesinin kullanımını anlatan bir uygulama kılavuzu hazırlayınız.\n",
    "* Klavuzda yer alan başlık ve içerik yapısı aşağıdaki gibi olacaktır.\n",
    "* Dosyayı hazırladıktan sonra Github üzerinde bir hesap açıp, bu dosyayı oraya yükleyip, web adresini bu hücrece verilen yere yazınız.\n",
    "* Bu dosyayı ayrıca DBS üzerinde açılan sınav ödevi etkinliğine yükleyiniz.\n",
    "* Bu dosyayı hazırladıktan sonra DBS'ye yüklerken mutlaka dosya adını değiştirerek Kendi Adınızı yazınız. Github'a yüklerken dosya adını konu başlığı ile değiştiriniz.\n",
    "\n",
    "### Öğrenci Bilgileri\n",
    "\n",
    "Öğrenci bilgilerini yazmak için <u>buraya</u> çift tıklayınız.\n",
    "* Öğrenci No: 213302021\n",
    "* Dosyanın Github adresi: https://github.com/Kemerinowi/keremdavut-etinvizeodevi"
   ]
  },
  {
   "cell_type": "markdown",
   "id": "a90db1ba-6346-456c-b18f-a494c03a7eef",
   "metadata": {},
   "source": [
    "# Computer Vision\n",
    "\n",
    "Computer vision ya da bilgisayarlı görüsü, bilgisayarların insan gözünün yaptığı gibi çevresini algılayabilmesi ve bu algılama üzerinden bilgi işlemesi için geliştirilen bir teknoloji ve bilim dalıdır. İnsan gözünün ve beyinin görsel bilgileri nasıl algıladığı ve işlediği prensiplerden esinlenen bu alan, makinaların görüntü ve videolardan anlam çıkarmasını sağlar. Bilgisayarlı görü, kameralar ve diğer optik sensörler aracılığıyla elde edilen görüntü ve video verilerini kullanarak nesneleri tanıma, sınıflandırma ve konumlarını tespit etme gibi işlevleri yerine getirir."
   ]
  },
  {
   "cell_type": "markdown",
   "id": "ebfa1415-77ef-4991-9a36-5cfa1cb92932",
   "metadata": {},
   "source": [
    "### OpenCv Kütüphanesi Kullanımı\n",
    "OpenCv kütüphanesi kullanarak aşağıdaki işlemler yapılabilir:\n",
    "\n",
    "1- \n",
    "2- \n",
    "3- \n",
    ".\n",
    "."
   ]
  },
  {
   "cell_type": "markdown",
   "id": "bf8597a7-af19-4875-9ea5-9fb77b63b804",
   "metadata": {},
   "source": [
    "### 0- Kütüphanenin kurulumu"
   ]
  },
  {
   "cell_type": "code",
   "execution_count": null,
   "id": "e8300d50-497c-42e1-ac2b-cc458bffa579",
   "metadata": {},
   "outputs": [],
   "source": [
    "pip install opencv-python\n",
    "\n",
    "pip install --upgrade\n",
    "\n",
    "import cv2"
   ]
  },
  {
   "cell_type": "code",
   "execution_count": null,
   "id": "16af5290-9980-42ea-86f9-c4266926ae24",
   "metadata": {},
   "outputs": [],
   "source": [
    "#pip install opencv-python\n",
    "#---------------------------------------------------------------------------------------------------------------------\n",
    "\n",
    "\n",
    "#pip install --upgrade\n",
    "\n",
    "\n",
    "#import cv2"
   ]
  },
  {
   "cell_type": "markdown",
   "id": "474f1e1f-1f51-4097-b13b-2997d2f13464",
   "metadata": {},
   "source": [
    "### 1- Show Picture"
   ]
  },
  {
   "cell_type": "code",
   "execution_count": null,
   "id": "3be2c9b7-6708-4de3-9ab5-215ce741fef0",
   "metadata": {},
   "outputs": [],
   "source": [
    "\n",
    "input = cv2.imread(\"indir.jpg\")\n",
    "\n",
    "\n",
    "cv2.imshow(\"GoW\",input)\n",
    "\n",
    "cv2.waitKey()# klavye girişi bekler\n",
    "\n",
    "cv2.destroyAllWindows()#sekmeyi kapatır\n",
    "\n",
    "\n",
    "#input değişkeni tanımlanmış ve cv2 kütüphanesinden bir fonksiyon ile resim çağrılmış daha sonra imshow kullnılarak input değişkinene tanımlanmış resimi girl adında bir sekmede açmasını ayarlanımış wait key değişkeni tanımlanmış bu da klavyeden herhangi bi tuşa basıldığında sekmenin kapatılması için yazılmış bir kod kapatmak içinde destroy all windwos komutunu çağırarak yapıyor//"
   ]
  },
  {
   "cell_type": "code",
   "execution_count": null,
   "id": "b265a851-406a-49c5-af2f-3e8cfaf6087f",
   "metadata": {},
   "outputs": [],
   "source": [
    "input"
   ]
  },
  {
   "cell_type": "code",
   "execution_count": null,
   "id": "1f8e4f00-3502-461b-aadf-2b4f2b72b9d7",
   "metadata": {},
   "outputs": [],
   "source": [
    "input.shape\n",
    "\n",
    "#burada indir resminin boyu rengi vs gibi özelikkleri belirlemize yarar"
   ]
  },
  {
   "cell_type": "code",
   "execution_count": null,
   "id": "cdd6cedb-70b0-4b92-bb7e-406f08523a2e",
   "metadata": {},
   "outputs": [],
   "source": [
    "input = cv2.imread(\"indir.jpg\")\n",
    "\n",
    "cv2.imshow(\"GoW\",input)\n",
    "\n",
    "cv2.waitKey()# klavye girişi bekler\n",
    "\n",
    "gray_picture = cv2.cvtColor(input,cv2.COLOR_BGR2GRAY)\n",
    "\n",
    "cv2.imshow(\"GoW\",gray_picture)\n",
    "\n",
    "cv2.waitKey()# klavye girişi bekler\n",
    "\n",
    "cv2.destroyAllWindows()#sekmeyi kapatır\n",
    "\n",
    "#burada resmi gri tonlarında işler ve her iki resmi yanyana gösterir ve klavyeye basıldığında sekme kapanır"
   ]
  },
  {
   "cell_type": "code",
   "execution_count": null,
   "id": "5cc6ca5b-4cdb-4c00-bb8f-4f372fe40855",
   "metadata": {},
   "outputs": [],
   "source": [
    "input = cv2.imread(\"indir.jpg\")# indir resmi çağrılmış\n",
    "\n",
    "hsv_resim = cv2.cvtColor(input, cv2.COLOR_BGR2HSV)#burada hsv_resim (hue ,saturation , value) tanımlamış\n",
    "\n",
    "cv2.imshow(\"HSV Tonlama\", hsv_resim[:,:,:])\n",
    "\n",
    "cv2.waitKey() # klavye girişi bekler\n",
    "\n",
    "cv2.imshow(\"Hue Kanalı\", hsv_resim[:,:,0])\n",
    "\n",
    "cv2.waitKey()# klavye girişi bekler\n",
    "\n",
    "cv2.imshow(\"Saturation Kanalı\", hsv_resim[:,:,1])\n",
    "cv2.waitKey()# klavye girişi bekler\n",
    "\n",
    "cv2.imshow(\"Value Kanalı\", hsv_resim[:,:,2])\n",
    "\n",
    "cv2.waitKey()# klavye girişi bekler\n",
    "\n",
    "cv2.destroyAllWindows() #sekmeyi kapatır\n",
    "\n",
    "#burada hsv_resim (hue ,saturation , value) tanımlamış ve değerler verilmiş alt her bir değer attandıktan sonra klavyede bir tuşa sekmeyi apatma özelliği tanımlanmış"
   ]
  },
  {
   "cell_type": "markdown",
   "id": "5590856d",
   "metadata": {},
   "source": [
    "## 2-EDGE"
   ]
  },
  {
   "cell_type": "code",
   "execution_count": 4,
   "id": "1b421299-93ba-4bd3-b834-9b7e6a312c1e",
   "metadata": {},
   "outputs": [],
   "source": [
    "import cv2 #cv2 kütüphanesi importlanmış\n",
    "\n",
    "import numpy as np #numpy kütüphanesi importlanmış\n",
    "\n",
    "image = cv2.imread(\"indir.jpg\")\n",
    "\n",
    "height, width = image.shape[:2] # resmin boyu ve genişliği ayarlanmış\n",
    "\n",
    "sobel_x = cv2.Sobel(image, cv2.CV_64F,0,1,ksize=5)# sobel x kullanarak yatay kenarları tespit eder\n",
    "sobel_y = cv2.Sobel(image, cv2.CV_64F,1,0,ksize=5)# sbole y kullanarak dikey kenarları tesipt eder\n",
    "\n",
    "cv2.imshow(\"Rotated Image\",image) #orjinal resmi rotated image olarak gösteriyor\n",
    "\n",
    "cv2.waitKey(0)# klavye girişi bekler\n",
    "\n",
    "cv2.imshow(\"Sobel X\",sobel_x) #sobel x sonucunu gösteriri\n",
    "\n",
    "cv2.waitKey(0)# klavye girişi bekler\n",
    "\n",
    "cv2.imshow(\"Sobel Y\",sobel_y) # sobel y sonucunu gösterir\n",
    "\n",
    "cv2.waitKey(0)# klavye girişi bekler\n",
    "\n",
    "sobel_OR = cv2.bitwise_or(sobel_x,sobel_y) # soble x ve y sonuçlarını birleştiri\n",
    "\n",
    "cv2.imshow(\"Sobel OR\",sobel_OR) # birleşmiş sbole görüntüsünü gösterir\n",
    "\n",
    "cv2.waitKey(0)# klavye girişi bekler\n",
    "\n",
    "laplacian = cv2.Laplacian(image,cv2.CV_64F) #laptacian kenar dedöktürünü kullanır\n",
    "\n",
    "cv2.imshow(\"Laplacian\",laplacian) # laptacian sonucunu gösterir\n",
    "\n",
    "cv2.waitKey(0) # klavye girişi bekler\n",
    "\n",
    "canny = cv2.Canny(image,50,120)\n",
    "\n",
    "cv2.imshow(\"Canny\",canny)\n",
    "\n",
    "cv2.waitKey(0) # klavye girişi bekler\n",
    "\n",
    "cv2.destroyAllWindows() #sekmeyi kapatır\n",
    "\n",
    "\n",
    "#burada opencv kütüphanesinin yanına artık Numpy kütüphaneside gelmiş numpy kullanarak çeşitli kenar filtreleri resim üzerinde uygulanmış. "
   ]
  },
  {
   "cell_type": "markdown",
   "id": "db3131a3",
   "metadata": {},
   "source": [
    "## 3- Real Time Picture"
   ]
  },
  {
   "cell_type": "code",
   "execution_count": 3,
   "id": "780699fa-ba1e-4afe-98ed-cca0059e16de",
   "metadata": {},
   "outputs": [],
   "source": [
    "import cv2 #cv2 importlanmış    \n",
    "\n",
    "import numpy as np# numpy importlanımş\n",
    "\n",
    "def sketch(image):  \n",
    "\n",
    "    img_gray = cv2.cvtColor(image,cv2.COLOR_BGR2GRAY)\n",
    "\n",
    "    img_blur = cv2.GaussianBlur(img_gray,(5,5),0)\n",
    "\n",
    "    img_canny = cv2.Canny(img_blur,10,70)\n",
    "\n",
    "    return img_canny\n",
    "\n",
    "#sketch adında bir fonksiyon tanımlanmış görüntü alıp daha sonrasında gri bir filtreye çevirir\n",
    "\n",
    "cap = cv2.VideoCapture(0) # kameradan görüntü işleme\n",
    "\n",
    "while True:\n",
    "\n",
    "    ret,frame = cap.read()\n",
    "\n",
    "    cv2.imshow(\"Real Time Picture\",sketch(frame)) # sketch ile giri filtre görüntü işelemye birleşmiş\n",
    "\n",
    "    if cv2.waitKey(1) == 13:\n",
    "        break\n",
    "\n",
    "cap.release()\n",
    "\n",
    "cv2.destroyAllWindows()\n",
    "\n",
    "\n",
    "#burada tekrardan cv2 ve numpy kütüphaneleri import edilmiş  sketch filtresi (gri tonlarından instagram filtresi gibi ) oluşturulmuş daha sonra sonsuz bir döngü başlatılmış kamera görüntü işleyebilsin diye en sonrdada sekmeyi kapatabilmek için bir fonksiyon tanımlanmış"
   ]
  }
 ],
 "metadata": {
  "kernelspec": {
   "display_name": "Python 3 (ipykernel)",
   "language": "python",
   "name": "python3"
  },
  "language_info": {
   "codemirror_mode": {
    "name": "ipython",
    "version": 3
   },
   "file_extension": ".py",
   "mimetype": "text/x-python",
   "name": "python",
   "nbconvert_exporter": "python",
   "pygments_lexer": "ipython3",
   "version": "3.10.11"
  }
 },
 "nbformat": 4,
 "nbformat_minor": 5
}
